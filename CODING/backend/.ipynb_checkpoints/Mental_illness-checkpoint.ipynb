{
 "cells": [
  {
   "cell_type": "code",
   "execution_count": 2,
   "metadata": {
    "colab": {
     "base_uri": "https://localhost:8080/"
    },
    "id": "Bho4smme9nR2",
    "outputId": "14ba2739-1071-40fe-af50-6897ce20b4d6"
   },
   "outputs": [],
   "source": [
    "import os\n",
    "import tqdm\n",
    "import matplotlib.pyplot as plt\n",
    "import pandas as pd\n",
    "import numpy as np\n",
    "import cv2\n",
    "from glob import glob\n",
    "import seaborn as sns\n",
    "import random\n",
    "from keras.preprocessing import image\n",
    "import tensorflow as tf\n",
    "\n",
    "from keras.utils.np_utils import to_categorical#convert to one-hot-encoding\n",
    "from keras.models import Sequential\n",
    "from keras.layers import Dense,Dropout,Flatten,Conv2D,MaxPool2D,GlobalAvgPool2D,GlobalMaxPooling2D\n",
    "from keras.optimizers import RMSprop\n",
    "from keras.preprocessing.image import ImageDataGenerator\n",
    "\n",
    "from keras.optimizers import Adam\n",
    "from sklearn.model_selection import train_test_split"
   ]
  },
  {
   "cell_type": "code",
   "execution_count": 3,
   "metadata": {
    "id": "UihjA-ri9zSH"
   },
   "outputs": [],
   "source": [
    "file=r'C:\\Users\\sanje\\Music\\wetransfer_mental-illness-final-code_2023-03-03_1312\\DATASET'"
   ]
  },
  {
   "cell_type": "code",
   "execution_count": 4,
   "metadata": {
    "id": "fAqLXOES_tCg"
   },
   "outputs": [],
   "source": [
    "Images=[]\n",
    "import os\n",
    "for dirname,_,filenames in os.walk(file):\n",
    "  for filename in filenames:\n",
    "    img=os.path.join(dirname,filename)\n",
    "    Images.append(img)"
   ]
  },
  {
   "cell_type": "code",
   "execution_count": 5,
   "metadata": {
    "colab": {
     "base_uri": "https://localhost:8080/"
    },
    "id": "f-KJVrel_y4g",
    "outputId": "d72f806f-9547-44b5-a537-35e394b7044b"
   },
   "outputs": [
    {
     "data": {
      "text/plain": [
       "['C:\\\\Users\\\\sanje\\\\Music\\\\wetransfer_mental-illness-final-code_2023-03-03_1312\\\\DATASET\\\\bipolar\\\\31b11747513fef4a61500b3a0e7ed0d1ac84c49e - Copy (2).jpg',\n",
       " 'C:\\\\Users\\\\sanje\\\\Music\\\\wetransfer_mental-illness-final-code_2023-03-03_1312\\\\DATASET\\\\bipolar\\\\31b11747513fef4a61500b3a0e7ed0d1ac84c49e - Copy (3).jpg',\n",
       " 'C:\\\\Users\\\\sanje\\\\Music\\\\wetransfer_mental-illness-final-code_2023-03-03_1312\\\\DATASET\\\\bipolar\\\\31b11747513fef4a61500b3a0e7ed0d1ac84c49e - Copy (4).jpg',\n",
       " 'C:\\\\Users\\\\sanje\\\\Music\\\\wetransfer_mental-illness-final-code_2023-03-03_1312\\\\DATASET\\\\bipolar\\\\31b11747513fef4a61500b3a0e7ed0d1ac84c49e - Copy (5).jpg',\n",
       " 'C:\\\\Users\\\\sanje\\\\Music\\\\wetransfer_mental-illness-final-code_2023-03-03_1312\\\\DATASET\\\\bipolar\\\\31b11747513fef4a61500b3a0e7ed0d1ac84c49e - Copy (6).jpg',\n",
       " 'C:\\\\Users\\\\sanje\\\\Music\\\\wetransfer_mental-illness-final-code_2023-03-03_1312\\\\DATASET\\\\bipolar\\\\31b11747513fef4a61500b3a0e7ed0d1ac84c49e - Copy (7).jpg',\n",
       " 'C:\\\\Users\\\\sanje\\\\Music\\\\wetransfer_mental-illness-final-code_2023-03-03_1312\\\\DATASET\\\\bipolar\\\\31b11747513fef4a61500b3a0e7ed0d1ac84c49e - Copy (8).jpg',\n",
       " 'C:\\\\Users\\\\sanje\\\\Music\\\\wetransfer_mental-illness-final-code_2023-03-03_1312\\\\DATASET\\\\bipolar\\\\31b11747513fef4a61500b3a0e7ed0d1ac84c49e - Copy.jpg',\n",
       " 'C:\\\\Users\\\\sanje\\\\Music\\\\wetransfer_mental-illness-final-code_2023-03-03_1312\\\\DATASET\\\\bipolar\\\\31b11747513fef4a61500b3a0e7ed0d1ac84c49e.jpg',\n",
       " 'C:\\\\Users\\\\sanje\\\\Music\\\\wetransfer_mental-illness-final-code_2023-03-03_1312\\\\DATASET\\\\bipolar\\\\images (1) - Copy.jpg']"
      ]
     },
     "execution_count": 5,
     "metadata": {},
     "output_type": "execute_result"
    }
   ],
   "source": [
    "Images[:10]"
   ]
  },
  {
   "cell_type": "code",
   "execution_count": 6,
   "metadata": {
    "colab": {
     "base_uri": "https://localhost:8080/"
    },
    "id": "zBXpBx2l_5M5",
    "outputId": "c4d794e8-b754-4bda-ce1a-a6b7bc72a930"
   },
   "outputs": [
    {
     "data": {
      "text/plain": [
       "558"
      ]
     },
     "execution_count": 6,
     "metadata": {},
     "output_type": "execute_result"
    }
   ],
   "source": [
    "len(Images)"
   ]
  },
  {
   "cell_type": "code",
   "execution_count": 7,
   "metadata": {
    "id": "SvQaqi7lAJQZ"
   },
   "outputs": [],
   "source": [
    "class_label=[]\n",
    "for i in Images:\n",
    "  j=i.split('\\\\')\n",
    "  class_label.append(j[-2])"
   ]
  },
  {
   "cell_type": "code",
   "execution_count": 8,
   "metadata": {
    "colab": {
     "base_uri": "https://localhost:8080/"
    },
    "id": "jOLaeRTnAavU",
    "outputId": "8465fb57-a393-4ae9-9c07-9499e1425f3a"
   },
   "outputs": [
    {
     "data": {
      "text/plain": [
       "['bipolar',\n",
       " 'bipolar',\n",
       " 'bipolar',\n",
       " 'bipolar',\n",
       " 'bipolar',\n",
       " 'bipolar',\n",
       " 'bipolar',\n",
       " 'bipolar',\n",
       " 'bipolar',\n",
       " 'bipolar']"
      ]
     },
     "execution_count": 8,
     "metadata": {},
     "output_type": "execute_result"
    }
   ],
   "source": [
    "class_label[:10]"
   ]
  },
  {
   "cell_type": "code",
   "execution_count": 9,
   "metadata": {
    "colab": {
     "base_uri": "https://localhost:8080/"
    },
    "id": "em64rVzPAeIM",
    "outputId": "5f0c16b0-46f0-40fa-f3db-9a8868a4377f"
   },
   "outputs": [
    {
     "data": {
      "text/plain": [
       "558"
      ]
     },
     "execution_count": 9,
     "metadata": {},
     "output_type": "execute_result"
    }
   ],
   "source": [
    "len(class_label)"
   ]
  },
  {
   "cell_type": "code",
   "execution_count": 10,
   "metadata": {
    "id": "QjfRExYOAnPO"
   },
   "outputs": [],
   "source": [
    "#shuffle two lists with same order\n",
    "temp=list(zip(Images,class_label))\n",
    "random.shuffle(temp)\n",
    "Images,class_label=zip(*temp)\n",
    "data=pd.DataFrame(list(zip(Images,class_label)),columns=['image_path','class_label'])"
   ]
  },
  {
   "cell_type": "code",
   "execution_count": 11,
   "metadata": {
    "colab": {
     "base_uri": "https://localhost:8080/"
    },
    "id": "zyvPcwoSA4Eo",
    "outputId": "3c9dbea0-e549-457a-d08a-a2243ea09de3"
   },
   "outputs": [
    {
     "data": {
      "text/plain": [
       "(558, 2)"
      ]
     },
     "execution_count": 11,
     "metadata": {},
     "output_type": "execute_result"
    }
   ],
   "source": [
    "data.shape"
   ]
  },
  {
   "cell_type": "code",
   "execution_count": 12,
   "metadata": {
    "colab": {
     "base_uri": "https://localhost:8080/",
     "height": 206
    },
    "id": "_FkUmzJkBGHz",
    "outputId": "10cd722b-7107-4bbc-fb8f-805f537f12d8"
   },
   "outputs": [
    {
     "data": {
      "text/html": [
       "<div>\n",
       "<style scoped>\n",
       "    .dataframe tbody tr th:only-of-type {\n",
       "        vertical-align: middle;\n",
       "    }\n",
       "\n",
       "    .dataframe tbody tr th {\n",
       "        vertical-align: top;\n",
       "    }\n",
       "\n",
       "    .dataframe thead th {\n",
       "        text-align: right;\n",
       "    }\n",
       "</style>\n",
       "<table border=\"1\" class=\"dataframe\">\n",
       "  <thead>\n",
       "    <tr style=\"text-align: right;\">\n",
       "      <th></th>\n",
       "      <th>image_path</th>\n",
       "      <th>class_label</th>\n",
       "    </tr>\n",
       "  </thead>\n",
       "  <tbody>\n",
       "    <tr>\n",
       "      <th>0</th>\n",
       "      <td>C:\\Users\\sanje\\Music\\wetransfer_mental-illness...</td>\n",
       "      <td>bipolar</td>\n",
       "    </tr>\n",
       "    <tr>\n",
       "      <th>1</th>\n",
       "      <td>C:\\Users\\sanje\\Music\\wetransfer_mental-illness...</td>\n",
       "      <td>healthy</td>\n",
       "    </tr>\n",
       "    <tr>\n",
       "      <th>2</th>\n",
       "      <td>C:\\Users\\sanje\\Music\\wetransfer_mental-illness...</td>\n",
       "      <td>schizoprehnia</td>\n",
       "    </tr>\n",
       "    <tr>\n",
       "      <th>3</th>\n",
       "      <td>C:\\Users\\sanje\\Music\\wetransfer_mental-illness...</td>\n",
       "      <td>schizoprehnia</td>\n",
       "    </tr>\n",
       "    <tr>\n",
       "      <th>4</th>\n",
       "      <td>C:\\Users\\sanje\\Music\\wetransfer_mental-illness...</td>\n",
       "      <td>healthy</td>\n",
       "    </tr>\n",
       "  </tbody>\n",
       "</table>\n",
       "</div>"
      ],
      "text/plain": [
       "                                          image_path    class_label\n",
       "0  C:\\Users\\sanje\\Music\\wetransfer_mental-illness...        bipolar\n",
       "1  C:\\Users\\sanje\\Music\\wetransfer_mental-illness...        healthy\n",
       "2  C:\\Users\\sanje\\Music\\wetransfer_mental-illness...  schizoprehnia\n",
       "3  C:\\Users\\sanje\\Music\\wetransfer_mental-illness...  schizoprehnia\n",
       "4  C:\\Users\\sanje\\Music\\wetransfer_mental-illness...        healthy"
      ]
     },
     "execution_count": 12,
     "metadata": {},
     "output_type": "execute_result"
    }
   ],
   "source": [
    "data.head()"
   ]
  },
  {
   "cell_type": "code",
   "execution_count": 13,
   "metadata": {
    "colab": {
     "base_uri": "https://localhost:8080/"
    },
    "id": "e481UpvWBKgM",
    "outputId": "ea81208d-127d-48fa-eb09-dfed87713999"
   },
   "outputs": [
    {
     "data": {
      "text/plain": [
       "schizoprehnia    221\n",
       "healthy          183\n",
       "bipolar          154\n",
       "Name: class_label, dtype: int64"
      ]
     },
     "execution_count": 13,
     "metadata": {},
     "output_type": "execute_result"
    }
   ],
   "source": [
    "data.class_label.value_counts()"
   ]
  },
  {
   "cell_type": "code",
   "execution_count": 14,
   "metadata": {
    "id": "A4UZV60nCipY"
   },
   "outputs": [],
   "source": [
    "from sklearn.utils import resample\n",
    "df_c0 = data[data['class_label']== 'schizoprehnia']\n",
    "df_c1 = data[data['class_label']== 'healthy']\n",
    "df_c2 = data[data['class_label']== 'bipolar']"
   ]
  },
  {
   "cell_type": "code",
   "execution_count": 15,
   "metadata": {
    "id": "FlHGtlxACzOC"
   },
   "outputs": [],
   "source": [
    "#downsample the majority class\n",
    "upsampled_df_c0=resample(df_c0,replace=True,random_state=23,n_samples=300)\n",
    "upsampled_df_c1=resample(df_c1,replace=True,random_state=23,n_samples=300)\n",
    "upsampled_df_c2=resample(df_c2,replace=True,random_state=23,n_samples=300)"
   ]
  },
  {
   "cell_type": "code",
   "execution_count": 16,
   "metadata": {
    "id": "j3ornRKlEoqK"
   },
   "outputs": [],
   "source": [
    "#Cobine both\n",
    "df_upsampled=pd.concat([upsampled_df_c0,upsampled_df_c1,upsampled_df_c2])"
   ]
  },
  {
   "cell_type": "code",
   "execution_count": 17,
   "metadata": {
    "colab": {
     "base_uri": "https://localhost:8080/",
     "height": 206
    },
    "id": "mZtLwNEmE3x8",
    "outputId": "a54a4665-703e-4f7e-e5cf-34bfba68a754"
   },
   "outputs": [
    {
     "data": {
      "text/html": [
       "<div>\n",
       "<style scoped>\n",
       "    .dataframe tbody tr th:only-of-type {\n",
       "        vertical-align: middle;\n",
       "    }\n",
       "\n",
       "    .dataframe tbody tr th {\n",
       "        vertical-align: top;\n",
       "    }\n",
       "\n",
       "    .dataframe thead th {\n",
       "        text-align: right;\n",
       "    }\n",
       "</style>\n",
       "<table border=\"1\" class=\"dataframe\">\n",
       "  <thead>\n",
       "    <tr style=\"text-align: right;\">\n",
       "      <th></th>\n",
       "      <th>image_path</th>\n",
       "      <th>class_label</th>\n",
       "    </tr>\n",
       "  </thead>\n",
       "  <tbody>\n",
       "    <tr>\n",
       "      <th>191</th>\n",
       "      <td>C:\\Users\\sanje\\Music\\wetransfer_mental-illness...</td>\n",
       "      <td>schizoprehnia</td>\n",
       "    </tr>\n",
       "    <tr>\n",
       "      <th>93</th>\n",
       "      <td>C:\\Users\\sanje\\Music\\wetransfer_mental-illness...</td>\n",
       "      <td>schizoprehnia</td>\n",
       "    </tr>\n",
       "    <tr>\n",
       "      <th>505</th>\n",
       "      <td>C:\\Users\\sanje\\Music\\wetransfer_mental-illness...</td>\n",
       "      <td>schizoprehnia</td>\n",
       "    </tr>\n",
       "    <tr>\n",
       "      <th>457</th>\n",
       "      <td>C:\\Users\\sanje\\Music\\wetransfer_mental-illness...</td>\n",
       "      <td>schizoprehnia</td>\n",
       "    </tr>\n",
       "    <tr>\n",
       "      <th>77</th>\n",
       "      <td>C:\\Users\\sanje\\Music\\wetransfer_mental-illness...</td>\n",
       "      <td>schizoprehnia</td>\n",
       "    </tr>\n",
       "  </tbody>\n",
       "</table>\n",
       "</div>"
      ],
      "text/plain": [
       "                                            image_path    class_label\n",
       "191  C:\\Users\\sanje\\Music\\wetransfer_mental-illness...  schizoprehnia\n",
       "93   C:\\Users\\sanje\\Music\\wetransfer_mental-illness...  schizoprehnia\n",
       "505  C:\\Users\\sanje\\Music\\wetransfer_mental-illness...  schizoprehnia\n",
       "457  C:\\Users\\sanje\\Music\\wetransfer_mental-illness...  schizoprehnia\n",
       "77   C:\\Users\\sanje\\Music\\wetransfer_mental-illness...  schizoprehnia"
      ]
     },
     "execution_count": 17,
     "metadata": {},
     "output_type": "execute_result"
    }
   ],
   "source": [
    "df_upsampled.head()"
   ]
  },
  {
   "cell_type": "code",
   "execution_count": 18,
   "metadata": {
    "colab": {
     "base_uri": "https://localhost:8080/",
     "height": 206
    },
    "id": "dE7ojPvjE_G9",
    "outputId": "617beb46-d1e8-4d54-c87b-d20f678ae213"
   },
   "outputs": [
    {
     "data": {
      "text/html": [
       "<div>\n",
       "<style scoped>\n",
       "    .dataframe tbody tr th:only-of-type {\n",
       "        vertical-align: middle;\n",
       "    }\n",
       "\n",
       "    .dataframe tbody tr th {\n",
       "        vertical-align: top;\n",
       "    }\n",
       "\n",
       "    .dataframe thead th {\n",
       "        text-align: right;\n",
       "    }\n",
       "</style>\n",
       "<table border=\"1\" class=\"dataframe\">\n",
       "  <thead>\n",
       "    <tr style=\"text-align: right;\">\n",
       "      <th></th>\n",
       "      <th>image_path</th>\n",
       "      <th>class_label</th>\n",
       "    </tr>\n",
       "  </thead>\n",
       "  <tbody>\n",
       "    <tr>\n",
       "      <th>496</th>\n",
       "      <td>C:\\Users\\sanje\\Music\\wetransfer_mental-illness...</td>\n",
       "      <td>bipolar</td>\n",
       "    </tr>\n",
       "    <tr>\n",
       "      <th>383</th>\n",
       "      <td>C:\\Users\\sanje\\Music\\wetransfer_mental-illness...</td>\n",
       "      <td>bipolar</td>\n",
       "    </tr>\n",
       "    <tr>\n",
       "      <th>341</th>\n",
       "      <td>C:\\Users\\sanje\\Music\\wetransfer_mental-illness...</td>\n",
       "      <td>bipolar</td>\n",
       "    </tr>\n",
       "    <tr>\n",
       "      <th>23</th>\n",
       "      <td>C:\\Users\\sanje\\Music\\wetransfer_mental-illness...</td>\n",
       "      <td>bipolar</td>\n",
       "    </tr>\n",
       "    <tr>\n",
       "      <th>292</th>\n",
       "      <td>C:\\Users\\sanje\\Music\\wetransfer_mental-illness...</td>\n",
       "      <td>bipolar</td>\n",
       "    </tr>\n",
       "  </tbody>\n",
       "</table>\n",
       "</div>"
      ],
      "text/plain": [
       "                                            image_path class_label\n",
       "496  C:\\Users\\sanje\\Music\\wetransfer_mental-illness...     bipolar\n",
       "383  C:\\Users\\sanje\\Music\\wetransfer_mental-illness...     bipolar\n",
       "341  C:\\Users\\sanje\\Music\\wetransfer_mental-illness...     bipolar\n",
       "23   C:\\Users\\sanje\\Music\\wetransfer_mental-illness...     bipolar\n",
       "292  C:\\Users\\sanje\\Music\\wetransfer_mental-illness...     bipolar"
      ]
     },
     "execution_count": 18,
     "metadata": {},
     "output_type": "execute_result"
    }
   ],
   "source": [
    "df_upsampled.tail()"
   ]
  },
  {
   "cell_type": "code",
   "execution_count": 19,
   "metadata": {
    "colab": {
     "base_uri": "https://localhost:8080/"
    },
    "id": "3SUX_494FA2e",
    "outputId": "c533c709-8cbd-4eaa-ccd0-39e90287aa19"
   },
   "outputs": [
    {
     "data": {
      "text/plain": [
       "bipolar          300\n",
       "schizoprehnia    300\n",
       "healthy          300\n",
       "Name: class_label, dtype: int64"
      ]
     },
     "execution_count": 19,
     "metadata": {},
     "output_type": "execute_result"
    }
   ],
   "source": [
    "df_upsampled.class_label.value_counts()"
   ]
  },
  {
   "cell_type": "code",
   "execution_count": 20,
   "metadata": {
    "colab": {
     "base_uri": "https://localhost:8080/",
     "height": 206
    },
    "id": "ENCa7QdUFWCJ",
    "outputId": "b82b116d-29f6-47c0-ca0b-9220c74d0c94"
   },
   "outputs": [
    {
     "data": {
      "text/html": [
       "<div>\n",
       "<style scoped>\n",
       "    .dataframe tbody tr th:only-of-type {\n",
       "        vertical-align: middle;\n",
       "    }\n",
       "\n",
       "    .dataframe tbody tr th {\n",
       "        vertical-align: top;\n",
       "    }\n",
       "\n",
       "    .dataframe thead th {\n",
       "        text-align: right;\n",
       "    }\n",
       "</style>\n",
       "<table border=\"1\" class=\"dataframe\">\n",
       "  <thead>\n",
       "    <tr style=\"text-align: right;\">\n",
       "      <th></th>\n",
       "      <th>image_path</th>\n",
       "      <th>class_label</th>\n",
       "    </tr>\n",
       "  </thead>\n",
       "  <tbody>\n",
       "    <tr>\n",
       "      <th>214</th>\n",
       "      <td>C:\\Users\\sanje\\Music\\wetransfer_mental-illness...</td>\n",
       "      <td>schizoprehnia</td>\n",
       "    </tr>\n",
       "    <tr>\n",
       "      <th>366</th>\n",
       "      <td>C:\\Users\\sanje\\Music\\wetransfer_mental-illness...</td>\n",
       "      <td>healthy</td>\n",
       "    </tr>\n",
       "    <tr>\n",
       "      <th>309</th>\n",
       "      <td>C:\\Users\\sanje\\Music\\wetransfer_mental-illness...</td>\n",
       "      <td>healthy</td>\n",
       "    </tr>\n",
       "    <tr>\n",
       "      <th>213</th>\n",
       "      <td>C:\\Users\\sanje\\Music\\wetransfer_mental-illness...</td>\n",
       "      <td>bipolar</td>\n",
       "    </tr>\n",
       "    <tr>\n",
       "      <th>303</th>\n",
       "      <td>C:\\Users\\sanje\\Music\\wetransfer_mental-illness...</td>\n",
       "      <td>schizoprehnia</td>\n",
       "    </tr>\n",
       "  </tbody>\n",
       "</table>\n",
       "</div>"
      ],
      "text/plain": [
       "                                            image_path    class_label\n",
       "214  C:\\Users\\sanje\\Music\\wetransfer_mental-illness...  schizoprehnia\n",
       "366  C:\\Users\\sanje\\Music\\wetransfer_mental-illness...        healthy\n",
       "309  C:\\Users\\sanje\\Music\\wetransfer_mental-illness...        healthy\n",
       "213  C:\\Users\\sanje\\Music\\wetransfer_mental-illness...        bipolar\n",
       "303  C:\\Users\\sanje\\Music\\wetransfer_mental-illness...  schizoprehnia"
      ]
     },
     "execution_count": 20,
     "metadata": {},
     "output_type": "execute_result"
    }
   ],
   "source": [
    "data=df_upsampled.sample(frac=1)\n",
    "data.head()"
   ]
  },
  {
   "cell_type": "code",
   "execution_count": 21,
   "metadata": {
    "colab": {
     "base_uri": "https://localhost:8080/",
     "height": 437
    },
    "id": "_tJ9J58gFuu7",
    "outputId": "323b356a-b77d-4732-d4fd-6a9ec3f8741b"
   },
   "outputs": [
    {
     "data": {
      "text/plain": [
       "Text(0.5, 0, 'Class_label')"
      ]
     },
     "execution_count": 21,
     "metadata": {},
     "output_type": "execute_result"
    },
    {
     "data": {
      "image/png": "[encoded data removed]",
      "text/plain": [
       "<Figure size 720x360 with 1 Axes>"
      ]
     },
     "metadata": {},
     "output_type": "display_data"
    }
   ],
   "source": [
    "#counts of top 10 drugs\n",
    "sns.set(style=\"whitegrid\")\n",
    "plt.figure(figsize=(10, 5))\n",
    "ax = sns.countplot(x=\"class_label\", data=df_upsampled, palette=sns.color_palette(\"cubehelix\", 4))\n",
    "plt.xticks(rotation=90)\n",
    "plt.title(\"Class Label Counts\", {\"fontname\":\"fantasy\", \"fontweight\":\"bold\", \"fontsize\":\"medium\"})\n",
    "plt.ylabel(\"count\", {\"fontname\": \"serif\", \"fontweight\":\"bold\"})\n",
    "plt.xlabel(\"Class_label\", {\"fontname\": \"serif\", \"fontweight\":\"bold\"})"
   ]
  },
  {
   "cell_type": "code",
   "execution_count": 22,
   "metadata": {
    "id": "v-Sul_esGAkN"
   },
   "outputs": [],
   "source": [
    "from PIL import Image\n",
    "def resize_image(img):\n",
    "  #file = Image.open(img)\n",
    "  file = cv2.imread(img)\n",
    "  #img = file.convert('RGB')\n",
    "  #img_bgr= img.resize((48, 48))\n",
    "  resized = cv2.resize(file, (48,48), interpolation = cv2.INTER_AREA)\n",
    "  resized= np.array(resized)\n",
    "  image = np.reshape(resized,[1,48,48,3])\n",
    "  #img_bgr = np.array(img_bgr)\n",
    "  return resized"
   ]
  },
  {
   "cell_type": "code",
   "execution_count": 23,
   "metadata": {
    "colab": {
     "base_uri": "https://localhost:8080/"
    },
    "id": "P75Ue4LgGgYL",
    "outputId": "4fbc2724-aff9-4312-81bc-a65dc4c51fc7"
   },
   "outputs": [
    {
     "data": {
      "text/plain": [
       "3"
      ]
     },
     "execution_count": 23,
     "metadata": {},
     "output_type": "execute_result"
    }
   ],
   "source": [
    "#print num of classes in our data set\n",
    "num_classes=len(np.unique(data['class_label']))\n",
    "num_classes"
   ]
  },
  {
   "cell_type": "code",
   "execution_count": 24,
   "metadata": {
    "colab": {
     "base_uri": "https://localhost:8080/"
    },
    "id": "Yj7P8CSFGh26",
    "outputId": "d2374e22-a030-4a01-df8c-bc964f014be8"
   },
   "outputs": [
    {
     "data": {
      "text/plain": [
       "214    schizoprehnia\n",
       "366          healthy\n",
       "309          healthy\n",
       "213          bipolar\n",
       "303    schizoprehnia\n",
       "Name: class_label, dtype: object"
      ]
     },
     "execution_count": 24,
     "metadata": {},
     "output_type": "execute_result"
    }
   ],
   "source": [
    "data['class_label'][:5]"
   ]
  },
  {
   "cell_type": "code",
   "execution_count": 25,
   "metadata": {
    "id": "dPQj4IlyGrqU"
   },
   "outputs": [],
   "source": [
    "#save the class into class names\n",
    "class_names=list(data['class_label'])"
   ]
  },
  {
   "cell_type": "markdown",
   "metadata": {
    "id": "SD2EdudQHTux"
   },
   "source": [
    "**Encoding**"
   ]
  },
  {
   "cell_type": "code",
   "execution_count": 26,
   "metadata": {
    "id": "ZbFKzFwwHQWR"
   },
   "outputs": [],
   "source": [
    "from sklearn.preprocessing import LabelBinarizer\n",
    "enc = LabelBinarizer()\n",
    "y = enc.fit_transform(data['class_label'])"
   ]
  },
  {
   "cell_type": "code",
   "execution_count": 27,
   "metadata": {
    "colab": {
     "base_uri": "https://localhost:8080/"
    },
    "id": "psebZgOjHgib",
    "outputId": "58c62182-755b-464f-a0bb-07647acac437"
   },
   "outputs": [
    {
     "data": {
      "text/plain": [
       "array(['bipolar', 'healthy', 'schizoprehnia'], dtype='<U13')"
      ]
     },
     "execution_count": 27,
     "metadata": {},
     "output_type": "execute_result"
    }
   ],
   "source": [
    "enc.classes_"
   ]
  },
  {
   "cell_type": "code",
   "execution_count": 28,
   "metadata": {
    "colab": {
     "base_uri": "https://localhost:8080/"
    },
    "id": "n0_i9XjxHkyd",
    "outputId": "58211b7a-fe1c-471e-934d-995f292c6f37"
   },
   "outputs": [
    {
     "data": {
      "text/plain": [
       "214    schizoprehnia\n",
       "366          healthy\n",
       "309          healthy\n",
       "213          bipolar\n",
       "303    schizoprehnia\n",
       "401    schizoprehnia\n",
       "199          healthy\n",
       "291    schizoprehnia\n",
       "454          bipolar\n",
       "305    schizoprehnia\n",
       "Name: class_label, dtype: object"
      ]
     },
     "execution_count": 28,
     "metadata": {},
     "output_type": "execute_result"
    }
   ],
   "source": [
    "data['class_label'][:10]"
   ]
  },
  {
   "cell_type": "code",
   "execution_count": 29,
   "metadata": {
    "colab": {
     "base_uri": "https://localhost:8080/"
    },
    "id": "8fUXBrW4HpHV",
    "outputId": "5da06972-4554-4e91-e45c-c0c39ba5533a"
   },
   "outputs": [
    {
     "data": {
      "text/plain": [
       "array([[0, 0, 1],\n",
       "       [0, 1, 0],\n",
       "       [0, 1, 0],\n",
       "       [1, 0, 0],\n",
       "       [0, 0, 1],\n",
       "       [0, 0, 1],\n",
       "       [0, 1, 0],\n",
       "       [0, 0, 1],\n",
       "       [1, 0, 0],\n",
       "       [0, 0, 1]])"
      ]
     },
     "execution_count": 29,
     "metadata": {},
     "output_type": "execute_result"
    }
   ],
   "source": [
    "y[:10]"
   ]
  },
  {
   "cell_type": "code",
   "execution_count": 30,
   "metadata": {
    "id": "UxrAVDsWH0EO"
   },
   "outputs": [],
   "source": [
    "y = []\n",
    "for i in data['class_label']:\n",
    "  if i == 'healthy':\n",
    "    k= [0, 1, 0]\n",
    "    y.append(k)\n",
    "  elif i == 'bipolar':\n",
    "    k= [1, 0, 0]\n",
    "    y.append(k)\n",
    "  else:\n",
    "    k= [0, 0, 1]\n",
    "    y.append(k)\n",
    "  "
   ]
  },
  {
   "cell_type": "code",
   "execution_count": 31,
   "metadata": {
    "colab": {
     "base_uri": "https://localhost:8080/"
    },
    "id": "nrMZWfslImb9",
    "outputId": "d07738a0-d924-4e8c-aca3-837ddd8f6493"
   },
   "outputs": [
    {
     "data": {
      "text/plain": [
       "[[0, 0, 1], [0, 1, 0], [0, 1, 0], [1, 0, 0], [0, 0, 1]]"
      ]
     },
     "execution_count": 31,
     "metadata": {},
     "output_type": "execute_result"
    }
   ],
   "source": [
    "y[:5]"
   ]
  },
  {
   "cell_type": "code",
   "execution_count": 32,
   "metadata": {
    "id": "FFEyVdWhMX0-"
   },
   "outputs": [],
   "source": [
    "y=np.array(y)"
   ]
  },
  {
   "cell_type": "code",
   "execution_count": 33,
   "metadata": {
    "colab": {
     "base_uri": "https://localhost:8080/"
    },
    "id": "0RxaGpkNKB-i",
    "outputId": "8fcbf640-d4c9-4614-c5d8-092b60ba50a1"
   },
   "outputs": [
    {
     "data": {
      "text/plain": [
       "array([[0, 0, 1],\n",
       "       [0, 1, 0],\n",
       "       [0, 1, 0],\n",
       "       [1, 0, 0],\n",
       "       [0, 0, 1],\n",
       "       [0, 0, 1],\n",
       "       [0, 1, 0],\n",
       "       [0, 0, 1],\n",
       "       [1, 0, 0],\n",
       "       [0, 0, 1]])"
      ]
     },
     "execution_count": 33,
     "metadata": {},
     "output_type": "execute_result"
    }
   ],
   "source": [
    "y[:10]"
   ]
  },
  {
   "cell_type": "code",
   "execution_count": 34,
   "metadata": {
    "colab": {
     "base_uri": "https://localhost:8080/"
    },
    "id": "PM6Ypo0rKHja",
    "outputId": "95215de8-5ff7-498f-f5dc-10e493b7771b"
   },
   "outputs": [
    {
     "data": {
      "text/plain": [
       "(900, 3)"
      ]
     },
     "execution_count": 34,
     "metadata": {},
     "output_type": "execute_result"
    }
   ],
   "source": [
    "y.shape"
   ]
  }
 ],
 "metadata": {
  "colab": {
   "collapsed_sections": [],
   "name": "Mental illness ",
   "provenance": []
  },
  "kernelspec": {
   "display_name": "Python 3",
   "language": "python",
   "name": "python3"
  },
  "language_info": {
   "codemirror_mode": {
    "name": "ipython",
    "version": 3
   },
   "file_extension": ".py",
   "mimetype": "text/x-python",
   "name": "python",
   "nbconvert_exporter": "python",
   "pygments_lexer": "ipython3",
   "version": "3.8.8"
  }
 },
 "nbformat": 4,
 "nbformat_minor": 1
}
