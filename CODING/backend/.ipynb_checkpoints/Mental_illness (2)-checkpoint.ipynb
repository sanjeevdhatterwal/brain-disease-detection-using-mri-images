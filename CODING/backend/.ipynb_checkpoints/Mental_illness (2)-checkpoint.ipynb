{
 "cells": [
  {
   "cell_type": "markdown",
   "metadata": {},
   "source": []
  },
  {
   "cell_type": "code",
   "execution_count": 1,
   "metadata": {},
   "outputs": [],
   "source": [
    "import warnings\n",
    "warnings.filterwarnings(\"ignore\")\n"
   ]
  },
  {
   "cell_type": "code",
   "execution_count": null,
   "metadata": {},
   "outputs": [],
   "source": []
  },
  {
   "cell_type": "code",
   "execution_count": 2,
   "metadata": {
    "id": "3qql0Aw65pJf"
   },
   "outputs": [],
   "source": [
    "import os\n",
    "import tqdm\n",
    "import matplotlib.pyplot as plt\n",
    "import numpy as np\n",
    "import pandas as pd\n",
    "import seaborn as sns\n",
    "from glob import glob\n",
    "import random\n",
    "\n",
    "import cv2\n",
    "from sklearn.model_selection import train_test_split\n",
    "from sklearn.utils import resample\n",
    "from sklearn.metrics import confusion_matrix\n",
    "from PIL import Image\n",
    "\n",
    "import tensorflow as tf\n",
    "\n",
    "from tensorflow.keras.preprocessing.image import ImageDataGenerator\n",
    "from tensorflow.keras.models import Sequential\n",
    "from tensorflow.keras.layers import Dense, Dropout, Conv2D, Flatten, MaxPool2D, GlobalAvgPool2D, GlobalMaxPooling2D\n",
    "from tensorflow.keras.optimizers import RMSprop, Adam"
   ]
  },
  {
   "cell_type": "raw",
   "metadata": {
    "colab": {
     "base_uri": "https://localhost:8080/"
    },
    "id": "Bho4smme9nR2",
    "outputId": "14ba2739-1071-40fe-af50-6897ce20b4d6"
   },
   "source": []
  },
  {
   "cell_type": "code",
   "execution_count": 35,
   "metadata": {
    "id": "UihjA-ri9zSH"
   },
   "outputs": [],
   "source": [
    "data=r\"C:\\Users\\sanje\\Music\\mental-illness\\DATASET\""
   ]
  },
  {
   "cell_type": "code",
   "execution_count": 36,
   "metadata": {
    "id": "fAqLXOES_tCg"
   },
   "outputs": [],
   "source": [
    "images=[]\n",
    "import os\n",
    "for dirname,_,filenames in os.walk(data):\n",
    "  for filename in filenames:\n",
    "    file_name, file_extension = os.path.splitext(filename)\n",
    "    if file_extension == '.db':\n",
    "      continue\n",
    "    else:\n",
    "      img=os.path.join(dirname,filename)\n",
    "      images.append(img)"
   ]
  },
  {
   "cell_type": "code",
   "execution_count": 37,
   "metadata": {
    "colab": {
     "base_uri": "https://localhost:8080/"
    },
    "id": "f-KJVrel_y4g",
    "outputId": "d72f806f-9547-44b5-a537-35e394b7044b"
   },
   "outputs": [
    {
     "data": {
      "text/plain": [
       "['C:\\\\Users\\\\sanje\\\\Music\\\\mental-illness\\\\DATASET\\\\bipolar\\\\31b11747513fef4a61500b3a0e7ed0d1ac84c49e - Copy (2).jpg',\n",
       " 'C:\\\\Users\\\\sanje\\\\Music\\\\mental-illness\\\\DATASET\\\\bipolar\\\\31b11747513fef4a61500b3a0e7ed0d1ac84c49e - Copy (3).jpg',\n",
       " 'C:\\\\Users\\\\sanje\\\\Music\\\\mental-illness\\\\DATASET\\\\bipolar\\\\31b11747513fef4a61500b3a0e7ed0d1ac84c49e - Copy (4).jpg',\n",
       " 'C:\\\\Users\\\\sanje\\\\Music\\\\mental-illness\\\\DATASET\\\\bipolar\\\\31b11747513fef4a61500b3a0e7ed0d1ac84c49e - Copy (5).jpg',\n",
       " 'C:\\\\Users\\\\sanje\\\\Music\\\\mental-illness\\\\DATASET\\\\bipolar\\\\31b11747513fef4a61500b3a0e7ed0d1ac84c49e - Copy (6).jpg',\n",
       " 'C:\\\\Users\\\\sanje\\\\Music\\\\mental-illness\\\\DATASET\\\\bipolar\\\\31b11747513fef4a61500b3a0e7ed0d1ac84c49e - Copy (7).jpg',\n",
       " 'C:\\\\Users\\\\sanje\\\\Music\\\\mental-illness\\\\DATASET\\\\bipolar\\\\31b11747513fef4a61500b3a0e7ed0d1ac84c49e - Copy (8).jpg',\n",
       " 'C:\\\\Users\\\\sanje\\\\Music\\\\mental-illness\\\\DATASET\\\\bipolar\\\\31b11747513fef4a61500b3a0e7ed0d1ac84c49e - Copy.jpg',\n",
       " 'C:\\\\Users\\\\sanje\\\\Music\\\\mental-illness\\\\DATASET\\\\bipolar\\\\31b11747513fef4a61500b3a0e7ed0d1ac84c49e.jpg',\n",
       " 'C:\\\\Users\\\\sanje\\\\Music\\\\mental-illness\\\\DATASET\\\\bipolar\\\\images (1) - Copy.jpg']"
      ]
     },
     "execution_count": 37,
     "metadata": {},
     "output_type": "execute_result"
    }
   ],
   "source": [
    "images[:10]"
   ]
  },
  {
   "cell_type": "code",
   "execution_count": 38,
   "metadata": {
    "colab": {
     "base_uri": "https://localhost:8080/"
    },
    "id": "zBXpBx2l_5M5",
    "outputId": "c4d794e8-b754-4bda-ce1a-a6b7bc72a930"
   },
   "outputs": [
    {
     "data": {
      "text/plain": [
       "556"
      ]
     },
     "execution_count": 38,
     "metadata": {},
     "output_type": "execute_result"
    }
   ],
   "source": [
    "len(images)"
   ]
  },
  {
   "cell_type": "code",
   "execution_count": 39,
   "metadata": {
    "id": "SvQaqi7lAJQZ"
   },
   "outputs": [],
   "source": [
    "class_values = []\n",
    "for i in images:\n",
    "    j = i.split('\\\\')\n",
    "    class_values.append(j[-2])"
   ]
  },
  {
   "cell_type": "code",
   "execution_count": 40,
   "metadata": {
    "colab": {
     "base_uri": "https://localhost:8080/"
    },
    "id": "jOLaeRTnAavU",
    "outputId": "8465fb57-a393-4ae9-9c07-9499e1425f3a"
   },
   "outputs": [
    {
     "data": {
      "text/plain": [
       "['bipolar',\n",
       " 'bipolar',\n",
       " 'bipolar',\n",
       " 'bipolar',\n",
       " 'bipolar',\n",
       " 'bipolar',\n",
       " 'bipolar',\n",
       " 'bipolar',\n",
       " 'bipolar',\n",
       " 'bipolar']"
      ]
     },
     "execution_count": 40,
     "metadata": {},
     "output_type": "execute_result"
    }
   ],
   "source": [
    "class_values[:10]"
   ]
  },
  {
   "cell_type": "code",
   "execution_count": 41,
   "metadata": {
    "colab": {
     "base_uri": "https://localhost:8080/"
    },
    "id": "em64rVzPAeIM",
    "outputId": "5f0c16b0-46f0-40fa-f3db-9a8868a4377f"
   },
   "outputs": [
    {
     "data": {
      "text/plain": [
       "556"
      ]
     },
     "execution_count": 41,
     "metadata": {},
     "output_type": "execute_result"
    }
   ],
   "source": [
    "len(class_values)"
   ]
  },
  {
   "cell_type": "code",
   "execution_count": 42,
   "metadata": {
    "id": "QjfRExYOAnPO"
   },
   "outputs": [],
   "source": [
    "#shuffle two lists with same order\n",
    "temp=list(zip(images,class_values))\n",
    "random.shuffle(temp)\n",
    "Images,class_label=zip(*temp)\n",
    "data=pd.DataFrame(list(zip(Images,class_label)),columns=['image_path','class_label'])"
   ]
  },
  {
   "cell_type": "code",
   "execution_count": 43,
   "metadata": {
    "colab": {
     "base_uri": "https://localhost:8080/"
    },
    "id": "zyvPcwoSA4Eo",
    "outputId": "3c9dbea0-e549-457a-d08a-a2243ea09de3"
   },
   "outputs": [
    {
     "data": {
      "text/plain": [
       "(556, 2)"
      ]
     },
     "execution_count": 43,
     "metadata": {},
     "output_type": "execute_result"
    }
   ],
   "source": [
    "data.shape"
   ]
  },
  {
   "cell_type": "code",
   "execution_count": 44,
   "metadata": {
    "colab": {
     "base_uri": "https://localhost:8080/",
     "height": 206
    },
    "id": "_FkUmzJkBGHz",
    "outputId": "10cd722b-7107-4bbc-fb8f-805f537f12d8"
   },
   "outputs": [
    {
     "data": {
      "text/html": [
       "<div>\n",
       "<style scoped>\n",
       "    .dataframe tbody tr th:only-of-type {\n",
       "        vertical-align: middle;\n",
       "    }\n",
       "\n",
       "    .dataframe tbody tr th {\n",
       "        vertical-align: top;\n",
       "    }\n",
       "\n",
       "    .dataframe thead th {\n",
       "        text-align: right;\n",
       "    }\n",
       "</style>\n",
       "<table border=\"1\" class=\"dataframe\">\n",
       "  <thead>\n",
       "    <tr style=\"text-align: right;\">\n",
       "      <th></th>\n",
       "      <th>image_path</th>\n",
       "      <th>class_label</th>\n",
       "    </tr>\n",
       "  </thead>\n",
       "  <tbody>\n",
       "    <tr>\n",
       "      <th>0</th>\n",
       "      <td>C:\\Users\\sanje\\Music\\mental-illness\\DATASET\\bi...</td>\n",
       "      <td>bipolar</td>\n",
       "    </tr>\n",
       "    <tr>\n",
       "      <th>1</th>\n",
       "      <td>C:\\Users\\sanje\\Music\\mental-illness\\DATASET\\sc...</td>\n",
       "      <td>schizoprehnia</td>\n",
       "    </tr>\n",
       "    <tr>\n",
       "      <th>2</th>\n",
       "      <td>C:\\Users\\sanje\\Music\\mental-illness\\DATASET\\sc...</td>\n",
       "      <td>schizoprehnia</td>\n",
       "    </tr>\n",
       "    <tr>\n",
       "      <th>3</th>\n",
       "      <td>C:\\Users\\sanje\\Music\\mental-illness\\DATASET\\sc...</td>\n",
       "      <td>schizoprehnia</td>\n",
       "    </tr>\n",
       "    <tr>\n",
       "      <th>4</th>\n",
       "      <td>C:\\Users\\sanje\\Music\\mental-illness\\DATASET\\sc...</td>\n",
       "      <td>schizoprehnia</td>\n",
       "    </tr>\n",
       "  </tbody>\n",
       "</table>\n",
       "</div>"
      ],
      "text/plain": [
       "                                          image_path    class_label\n",
       "0  C:\\Users\\sanje\\Music\\mental-illness\\DATASET\\bi...        bipolar\n",
       "1  C:\\Users\\sanje\\Music\\mental-illness\\DATASET\\sc...  schizoprehnia\n",
       "2  C:\\Users\\sanje\\Music\\mental-illness\\DATASET\\sc...  schizoprehnia\n",
       "3  C:\\Users\\sanje\\Music\\mental-illness\\DATASET\\sc...  schizoprehnia\n",
       "4  C:\\Users\\sanje\\Music\\mental-illness\\DATASET\\sc...  schizoprehnia"
      ]
     },
     "execution_count": 44,
     "metadata": {},
     "output_type": "execute_result"
    }
   ],
   "source": [
    "data.head()"
   ]
  },
  {
   "cell_type": "code",
   "execution_count": 45,
   "metadata": {
    "colab": {
     "base_uri": "https://localhost:8080/"
    },
    "id": "e481UpvWBKgM",
    "outputId": "ea81208d-127d-48fa-eb09-dfed87713999"
   },
   "outputs": [
    {
     "data": {
      "text/plain": [
       "schizoprehnia    221\n",
       "healthy          182\n",
       "bipolar          153\n",
       "Name: class_label, dtype: int64"
      ]
     },
     "execution_count": 45,
     "metadata": {},
     "output_type": "execute_result"
    }
   ],
   "source": [
    "data.class_label.value_counts()"
   ]
  },
  {
   "cell_type": "code",
   "execution_count": 46,
   "metadata": {
    "id": "A4UZV60nCipY"
   },
   "outputs": [],
   "source": [
    "from sklearn.utils import resample\n",
    "df_c0 = data[data['class_label']== 'schizoprehnia']\n",
    "df_c1 = data[data['class_label']== 'healthy']\n",
    "df_c2 = data[data['class_label']== 'bipolar']"
   ]
  },
  {
   "cell_type": "code",
   "execution_count": 47,
   "metadata": {
    "id": "FlHGtlxACzOC"
   },
   "outputs": [],
   "source": [
    "#downsample the majority class\n",
    "upsampled_df_c0=resample(df_c0,replace=True,random_state=23,n_samples=300)\n",
    "upsampled_df_c1=resample(df_c1,replace=True,random_state=23,n_samples=300)\n",
    "upsampled_df_c2=resample(df_c2,replace=True,random_state=23,n_samples=300)"
   ]
  },
  {
   "cell_type": "code",
   "execution_count": 48,
   "metadata": {
    "id": "j3ornRKlEoqK"
   },
   "outputs": [],
   "source": [
    "#Cobine both\n",
    "df_upsampled=pd.concat([upsampled_df_c0,upsampled_df_c1,upsampled_df_c2])"
   ]
  },
  {
   "cell_type": "code",
   "execution_count": 49,
   "metadata": {
    "colab": {
     "base_uri": "https://localhost:8080/",
     "height": 206
    },
    "id": "mZtLwNEmE3x8",
    "outputId": "a54a4665-703e-4f7e-e5cf-34bfba68a754"
   },
   "outputs": [
    {
     "data": {
      "text/html": [
       "<div>\n",
       "<style scoped>\n",
       "    .dataframe tbody tr th:only-of-type {\n",
       "        vertical-align: middle;\n",
       "    }\n",
       "\n",
       "    .dataframe tbody tr th {\n",
       "        vertical-align: top;\n",
       "    }\n",
       "\n",
       "    .dataframe thead th {\n",
       "        text-align: right;\n",
       "    }\n",
       "</style>\n",
       "<table border=\"1\" class=\"dataframe\">\n",
       "  <thead>\n",
       "    <tr style=\"text-align: right;\">\n",
       "      <th></th>\n",
       "      <th>image_path</th>\n",
       "      <th>class_label</th>\n",
       "    </tr>\n",
       "  </thead>\n",
       "  <tbody>\n",
       "    <tr>\n",
       "      <th>210</th>\n",
       "      <td>C:\\Users\\sanje\\Music\\mental-illness\\DATASET\\sc...</td>\n",
       "      <td>schizoprehnia</td>\n",
       "    </tr>\n",
       "    <tr>\n",
       "      <th>98</th>\n",
       "      <td>C:\\Users\\sanje\\Music\\mental-illness\\DATASET\\sc...</td>\n",
       "      <td>schizoprehnia</td>\n",
       "    </tr>\n",
       "    <tr>\n",
       "      <th>508</th>\n",
       "      <td>C:\\Users\\sanje\\Music\\mental-illness\\DATASET\\sc...</td>\n",
       "      <td>schizoprehnia</td>\n",
       "    </tr>\n",
       "    <tr>\n",
       "      <th>472</th>\n",
       "      <td>C:\\Users\\sanje\\Music\\mental-illness\\DATASET\\sc...</td>\n",
       "      <td>schizoprehnia</td>\n",
       "    </tr>\n",
       "    <tr>\n",
       "      <th>79</th>\n",
       "      <td>C:\\Users\\sanje\\Music\\mental-illness\\DATASET\\sc...</td>\n",
       "      <td>schizoprehnia</td>\n",
       "    </tr>\n",
       "  </tbody>\n",
       "</table>\n",
       "</div>"
      ],
      "text/plain": [
       "                                            image_path    class_label\n",
       "210  C:\\Users\\sanje\\Music\\mental-illness\\DATASET\\sc...  schizoprehnia\n",
       "98   C:\\Users\\sanje\\Music\\mental-illness\\DATASET\\sc...  schizoprehnia\n",
       "508  C:\\Users\\sanje\\Music\\mental-illness\\DATASET\\sc...  schizoprehnia\n",
       "472  C:\\Users\\sanje\\Music\\mental-illness\\DATASET\\sc...  schizoprehnia\n",
       "79   C:\\Users\\sanje\\Music\\mental-illness\\DATASET\\sc...  schizoprehnia"
      ]
     },
     "execution_count": 49,
     "metadata": {},
     "output_type": "execute_result"
    }
   ],
   "source": [
    "df_upsampled.head()"
   ]
  },
  {
   "cell_type": "code",
   "execution_count": 50,
   "metadata": {
    "colab": {
     "base_uri": "https://localhost:8080/",
     "height": 206
    },
    "id": "dE7ojPvjE_G9",
    "outputId": "617beb46-d1e8-4d54-c87b-d20f678ae213"
   },
   "outputs": [
    {
     "data": {
      "text/html": [
       "<div>\n",
       "<style scoped>\n",
       "    .dataframe tbody tr th:only-of-type {\n",
       "        vertical-align: middle;\n",
       "    }\n",
       "\n",
       "    .dataframe tbody tr th {\n",
       "        vertical-align: top;\n",
       "    }\n",
       "\n",
       "    .dataframe thead th {\n",
       "        text-align: right;\n",
       "    }\n",
       "</style>\n",
       "<table border=\"1\" class=\"dataframe\">\n",
       "  <thead>\n",
       "    <tr style=\"text-align: right;\">\n",
       "      <th></th>\n",
       "      <th>image_path</th>\n",
       "      <th>class_label</th>\n",
       "    </tr>\n",
       "  </thead>\n",
       "  <tbody>\n",
       "    <tr>\n",
       "      <th>327</th>\n",
       "      <td>C:\\Users\\sanje\\Music\\mental-illness\\DATASET\\bi...</td>\n",
       "      <td>bipolar</td>\n",
       "    </tr>\n",
       "    <tr>\n",
       "      <th>21</th>\n",
       "      <td>C:\\Users\\sanje\\Music\\mental-illness\\DATASET\\bi...</td>\n",
       "      <td>bipolar</td>\n",
       "    </tr>\n",
       "    <tr>\n",
       "      <th>273</th>\n",
       "      <td>C:\\Users\\sanje\\Music\\mental-illness\\DATASET\\bi...</td>\n",
       "      <td>bipolar</td>\n",
       "    </tr>\n",
       "    <tr>\n",
       "      <th>14</th>\n",
       "      <td>C:\\Users\\sanje\\Music\\mental-illness\\DATASET\\bi...</td>\n",
       "      <td>bipolar</td>\n",
       "    </tr>\n",
       "    <tr>\n",
       "      <th>335</th>\n",
       "      <td>C:\\Users\\sanje\\Music\\mental-illness\\DATASET\\bi...</td>\n",
       "      <td>bipolar</td>\n",
       "    </tr>\n",
       "  </tbody>\n",
       "</table>\n",
       "</div>"
      ],
      "text/plain": [
       "                                            image_path class_label\n",
       "327  C:\\Users\\sanje\\Music\\mental-illness\\DATASET\\bi...     bipolar\n",
       "21   C:\\Users\\sanje\\Music\\mental-illness\\DATASET\\bi...     bipolar\n",
       "273  C:\\Users\\sanje\\Music\\mental-illness\\DATASET\\bi...     bipolar\n",
       "14   C:\\Users\\sanje\\Music\\mental-illness\\DATASET\\bi...     bipolar\n",
       "335  C:\\Users\\sanje\\Music\\mental-illness\\DATASET\\bi...     bipolar"
      ]
     },
     "execution_count": 50,
     "metadata": {},
     "output_type": "execute_result"
    }
   ],
   "source": [
    "df_upsampled.tail()"
   ]
  },
  {
   "cell_type": "code",
   "execution_count": 51,
   "metadata": {
    "colab": {
     "base_uri": "https://localhost:8080/"
    },
    "id": "3SUX_494FA2e",
    "outputId": "c533c709-8cbd-4eaa-ccd0-39e90287aa19"
   },
   "outputs": [
    {
     "data": {
      "text/plain": [
       "schizoprehnia    300\n",
       "bipolar          300\n",
       "healthy          300\n",
       "Name: class_label, dtype: int64"
      ]
     },
     "execution_count": 51,
     "metadata": {},
     "output_type": "execute_result"
    }
   ],
   "source": [
    "df_upsampled.class_label.value_counts()"
   ]
  },
  {
   "cell_type": "code",
   "execution_count": 52,
   "metadata": {
    "colab": {
     "base_uri": "https://localhost:8080/",
     "height": 206
    },
    "id": "ENCa7QdUFWCJ",
    "outputId": "b82b116d-29f6-47c0-ca0b-9220c74d0c94"
   },
   "outputs": [
    {
     "data": {
      "text/html": [
       "<div>\n",
       "<style scoped>\n",
       "    .dataframe tbody tr th:only-of-type {\n",
       "        vertical-align: middle;\n",
       "    }\n",
       "\n",
       "    .dataframe tbody tr th {\n",
       "        vertical-align: top;\n",
       "    }\n",
       "\n",
       "    .dataframe thead th {\n",
       "        text-align: right;\n",
       "    }\n",
       "</style>\n",
       "<table border=\"1\" class=\"dataframe\">\n",
       "  <thead>\n",
       "    <tr style=\"text-align: right;\">\n",
       "      <th></th>\n",
       "      <th>image_path</th>\n",
       "      <th>class_label</th>\n",
       "    </tr>\n",
       "  </thead>\n",
       "  <tbody>\n",
       "    <tr>\n",
       "      <th>284</th>\n",
       "      <td>C:\\Users\\sanje\\Music\\mental-illness\\DATASET\\he...</td>\n",
       "      <td>healthy</td>\n",
       "    </tr>\n",
       "    <tr>\n",
       "      <th>51</th>\n",
       "      <td>C:\\Users\\sanje\\Music\\mental-illness\\DATASET\\bi...</td>\n",
       "      <td>bipolar</td>\n",
       "    </tr>\n",
       "    <tr>\n",
       "      <th>380</th>\n",
       "      <td>C:\\Users\\sanje\\Music\\mental-illness\\DATASET\\sc...</td>\n",
       "      <td>schizoprehnia</td>\n",
       "    </tr>\n",
       "    <tr>\n",
       "      <th>81</th>\n",
       "      <td>C:\\Users\\sanje\\Music\\mental-illness\\DATASET\\sc...</td>\n",
       "      <td>schizoprehnia</td>\n",
       "    </tr>\n",
       "    <tr>\n",
       "      <th>289</th>\n",
       "      <td>C:\\Users\\sanje\\Music\\mental-illness\\DATASET\\he...</td>\n",
       "      <td>healthy</td>\n",
       "    </tr>\n",
       "  </tbody>\n",
       "</table>\n",
       "</div>"
      ],
      "text/plain": [
       "                                            image_path    class_label\n",
       "284  C:\\Users\\sanje\\Music\\mental-illness\\DATASET\\he...        healthy\n",
       "51   C:\\Users\\sanje\\Music\\mental-illness\\DATASET\\bi...        bipolar\n",
       "380  C:\\Users\\sanje\\Music\\mental-illness\\DATASET\\sc...  schizoprehnia\n",
       "81   C:\\Users\\sanje\\Music\\mental-illness\\DATASET\\sc...  schizoprehnia\n",
       "289  C:\\Users\\sanje\\Music\\mental-illness\\DATASET\\he...        healthy"
      ]
     },
     "execution_count": 52,
     "metadata": {},
     "output_type": "execute_result"
    }
   ],
   "source": [
    "data=df_upsampled.sample(frac=1)\n",
    "data.head()"
   ]
  },
  {
   "cell_type": "code",
   "execution_count": 53,
   "metadata": {
    "colab": {
     "base_uri": "https://localhost:8080/",
     "height": 437
    },
    "id": "_tJ9J58gFuu7",
    "outputId": "323b356a-b77d-4732-d4fd-6a9ec3f8741b"
   },
   "outputs": [
    {
     "data": {
      "text/plain": [
       "Text(0.5, 0, 'Class_label')"
      ]
     },
     "execution_count": 53,
     "metadata": {},
     "output_type": "execute_result"
    },
    {
     "data": {
      "image/png": "[encoded data removed]",
      "text/plain": [
       "<Figure size 720x360 with 1 Axes>"
      ]
     },
     "metadata": {},
     "output_type": "display_data"
    }
   ],
   "source": [
    "#counts of top 10 drugs\n",
    "sns.set(style=\"whitegrid\")\n",
    "plt.figure(figsize=(10, 5))\n",
    "ax = sns.countplot(x=\"class_label\", data=df_upsampled, palette=sns.color_palette(\"cubehelix\", 4))\n",
    "plt.xticks(rotation=90)\n",
    "plt.title(\"Class Label Counts\", {\"fontname\":\"fantasy\", \"fontweight\":\"bold\", \"fontsize\":\"medium\"})\n",
    "plt.ylabel(\"count\", {\"fontname\": \"serif\", \"fontweight\":\"bold\"})\n",
    "plt.xlabel(\"Class_label\", {\"fontname\": \"serif\", \"fontweight\":\"bold\"})"
   ]
  },
  {
   "cell_type": "code",
   "execution_count": 54,
   "metadata": {
    "id": "v-Sul_esGAkN"
   },
   "outputs": [],
   "source": [
    "from PIL import Image\n",
    "def resize_image(img):\n",
    "  #file = Image.open(img)\n",
    "  file = cv2.imread(img)\n",
    "  #img = file.convert('RGB')\n",
    "  #img_bgr= img.resize((48, 48))\n",
    "  resized = cv2.resize(file, (48,48), interpolation = cv2.INTER_AREA)\n",
    "  resized= np.array(resized)\n",
    "  image = np.reshape(resized,[1,48,48,3])\n",
    "  #img_bgr = np.array(img_bgr)\n",
    "  return resized"
   ]
  },
  {
   "cell_type": "code",
   "execution_count": 55,
   "metadata": {
    "id": "EfNdrNqPGTeh"
   },
   "outputs": [],
   "source": [
    "#save resized images to Images\n",
    "images=[resize_image(img) for img in data['image_path']]\n",
    "\n"
   ]
  },
  {
   "cell_type": "code",
   "execution_count": 56,
   "metadata": {
    "colab": {
     "base_uri": "https://localhost:8080/"
    },
    "id": "P75Ue4LgGgYL",
    "outputId": "4fbc2724-aff9-4312-81bc-a65dc4c51fc7"
   },
   "outputs": [
    {
     "data": {
      "text/plain": [
       "3"
      ]
     },
     "execution_count": 56,
     "metadata": {},
     "output_type": "execute_result"
    }
   ],
   "source": [
    "#print num of classes in our data set\n",
    "num_classes=len(np.unique(data['class_label']))\n",
    "num_classes"
   ]
  },
  {
   "cell_type": "code",
   "execution_count": 57,
   "metadata": {
    "colab": {
     "base_uri": "https://localhost:8080/"
    },
    "id": "Yj7P8CSFGh26",
    "outputId": "d2374e22-a030-4a01-df8c-bc964f014be8"
   },
   "outputs": [
    {
     "data": {
      "text/plain": [
       "284          healthy\n",
       "51           bipolar\n",
       "380    schizoprehnia\n",
       "81     schizoprehnia\n",
       "289          healthy\n",
       "Name: class_label, dtype: object"
      ]
     },
     "execution_count": 57,
     "metadata": {},
     "output_type": "execute_result"
    }
   ],
   "source": [
    "data['class_label'][:5]"
   ]
  },
  {
   "cell_type": "code",
   "execution_count": 58,
   "metadata": {
    "id": "dPQj4IlyGrqU"
   },
   "outputs": [],
   "source": [
    "#save the class into class names\n",
    "class_names=list(data['class_label'])"
   ]
  },
  {
   "cell_type": "code",
   "execution_count": 59,
   "metadata": {
    "colab": {
     "base_uri": "https://localhost:8080/"
    },
    "id": "LcJXOWOuG0A0",
    "outputId": "a4b63541-3ef8-493e-bfeb-cea4d31f99b2"
   },
   "outputs": [
    {
     "data": {
      "text/plain": [
       "(48, 48, 3)"
      ]
     },
     "execution_count": 59,
     "metadata": {},
     "output_type": "execute_result"
    }
   ],
   "source": [
    "#print the shape of the image\n",
    "images[0].shape"
   ]
  },
  {
   "cell_type": "code",
   "execution_count": 60,
   "metadata": {
    "colab": {
     "base_uri": "https://localhost:8080/",
     "height": 301
    },
    "id": "nLVtlP2HG1uX",
    "outputId": "02f05f29-edb7-4d04-f5e9-7d5a1032dffc"
   },
   "outputs": [
    {
     "data": {
      "text/plain": [
       "Text(0.5, 1.0, 'schizoprehnia')"
      ]
     },
     "execution_count": 60,
     "metadata": {},
     "output_type": "execute_result"
    },
    {
     "data": {
      "image/png": "[encoded data removed]",
      "text/plain": [
       "<Figure size 432x288 with 1 Axes>"
      ]
     },
     "metadata": {},
     "output_type": "display_data"
    }
   ],
   "source": [
    "#See the image with class label\n",
    "plt.imshow(images[5])\n",
    "plt.title(class_names[5])"
   ]
  },
  {
   "cell_type": "code",
   "execution_count": 61,
   "metadata": {
    "colab": {
     "base_uri": "https://localhost:8080/",
     "height": 301
    },
    "id": "dshYDEwqG6bd",
    "outputId": "c491fb4a-04ce-44fb-88b1-ae4564dffd94"
   },
   "outputs": [
    {
     "data": {
      "text/plain": [
       "Text(0.5, 1.0, 'schizoprehnia')"
      ]
     },
     "execution_count": 61,
     "metadata": {},
     "output_type": "execute_result"
    },
    {
     "data": {
      "image/png": "[encoded data removed]",
      "text/plain": [
       "<Figure size 432x288 with 1 Axes>"
      ]
     },
     "metadata": {},
     "output_type": "display_data"
    }
   ],
   "source": [
    "#See the image with class label\n",
    "plt.imshow(images[10])\n",
    "plt.title(class_names[10])"
   ]
  },
  {
   "cell_type": "code",
   "execution_count": 62,
   "metadata": {
    "colab": {
     "base_uri": "https://localhost:8080/",
     "height": 301
    },
    "id": "MI4d_xq7G_c_",
    "outputId": "4a7175a8-fc62-45e2-ba41-df8666e5a983"
   },
   "outputs": [
    {
     "data": {
      "text/plain": [
       "Text(0.5, 1.0, 'bipolar')"
      ]
     },
     "execution_count": 62,
     "metadata": {},
     "output_type": "execute_result"
    },
    {
     "data": {
      "image/png": "[encoded data removed]",
      "text/plain": [
       "<Figure size 432x288 with 1 Axes>"
      ]
     },
     "metadata": {},
     "output_type": "display_data"
    }
   ],
   "source": [
    "#See the image with class label\n",
    "plt.imshow(images[32])\n",
    "plt.title(class_names[32])"
   ]
  },
  {
   "cell_type": "code",
   "execution_count": 63,
   "metadata": {
    "id": "JcGUZfOsHGhw"
   },
   "outputs": [],
   "source": [
    "images=np.array(images)"
   ]
  },
  {
   "cell_type": "code",
   "execution_count": 64,
   "metadata": {
    "colab": {
     "base_uri": "https://localhost:8080/"
    },
    "id": "gce9hsHCHMOQ",
    "outputId": "fb498d5d-f549-4788-f157-6292e0f0acef"
   },
   "outputs": [
    {
     "data": {
      "text/plain": [
       "(900, 48, 48, 3)"
      ]
     },
     "execution_count": 64,
     "metadata": {},
     "output_type": "execute_result"
    }
   ],
   "source": [
    "images.shape"
   ]
  },
  {
   "cell_type": "markdown",
   "metadata": {
    "id": "SD2EdudQHTux"
   },
   "source": [
    "**Encoding**"
   ]
  },
  {
   "cell_type": "code",
   "execution_count": 65,
   "metadata": {
    "id": "ZbFKzFwwHQWR"
   },
   "outputs": [],
   "source": [
    "from sklearn.preprocessing import LabelBinarizer\n",
    "enc = LabelBinarizer()\n",
    "y = enc.fit_transform(data['class_label'])"
   ]
  },
  {
   "cell_type": "code",
   "execution_count": 66,
   "metadata": {
    "colab": {
     "base_uri": "https://localhost:8080/"
    },
    "id": "psebZgOjHgib",
    "outputId": "58c62182-755b-464f-a0bb-07647acac437"
   },
   "outputs": [
    {
     "data": {
      "text/plain": [
       "array(['bipolar', 'healthy', 'schizoprehnia'], dtype='<U13')"
      ]
     },
     "execution_count": 66,
     "metadata": {},
     "output_type": "execute_result"
    }
   ],
   "source": [
    "enc.classes_"
   ]
  },
  {
   "cell_type": "code",
   "execution_count": 67,
   "metadata": {
    "colab": {
     "base_uri": "https://localhost:8080/"
    },
    "id": "n0_i9XjxHkyd",
    "outputId": "58211b7a-fe1c-471e-934d-995f292c6f37"
   },
   "outputs": [
    {
     "data": {
      "text/plain": [
       "284          healthy\n",
       "51           bipolar\n",
       "380    schizoprehnia\n",
       "81     schizoprehnia\n",
       "289          healthy\n",
       "291    schizoprehnia\n",
       "479    schizoprehnia\n",
       "124    schizoprehnia\n",
       "327          bipolar\n",
       "11     schizoprehnia\n",
       "Name: class_label, dtype: object"
      ]
     },
     "execution_count": 67,
     "metadata": {},
     "output_type": "execute_result"
    }
   ],
   "source": [
    "data['class_label'][:10]"
   ]
  },
  {
   "cell_type": "code",
   "execution_count": 68,
   "metadata": {
    "colab": {
     "base_uri": "https://localhost:8080/"
    },
    "id": "8fUXBrW4HpHV",
    "outputId": "5da06972-4554-4e91-e45c-c0c39ba5533a"
   },
   "outputs": [
    {
     "data": {
      "text/plain": [
       "array([[0, 1, 0],\n",
       "       [1, 0, 0],\n",
       "       [0, 0, 1],\n",
       "       [0, 0, 1],\n",
       "       [0, 1, 0],\n",
       "       [0, 0, 1],\n",
       "       [0, 0, 1],\n",
       "       [0, 0, 1],\n",
       "       [1, 0, 0],\n",
       "       [0, 0, 1]])"
      ]
     },
     "execution_count": 68,
     "metadata": {},
     "output_type": "execute_result"
    }
   ],
   "source": [
    "y[:10]"
   ]
  },
  {
   "cell_type": "code",
   "execution_count": 69,
   "metadata": {
    "id": "UxrAVDsWH0EO"
   },
   "outputs": [],
   "source": [
    "y = []\n",
    "for i in data['class_label']:\n",
    "  if i == 'healthy':\n",
    "    k= [0, 1, 0]\n",
    "    y.append(k)\n",
    "  elif i == 'bipolar':\n",
    "    k= [1, 0, 0]\n",
    "    y.append(k)\n",
    "  else:\n",
    "    k= [0, 0, 1]\n",
    "    y.append(k)\n",
    "  "
   ]
  },
  {
   "cell_type": "code",
   "execution_count": 70,
   "metadata": {
    "colab": {
     "base_uri": "https://localhost:8080/"
    },
    "id": "nrMZWfslImb9",
    "outputId": "d07738a0-d924-4e8c-aca3-837ddd8f6493"
   },
   "outputs": [
    {
     "data": {
      "text/plain": [
       "[[0, 1, 0], [1, 0, 0], [0, 0, 1], [0, 0, 1], [0, 1, 0]]"
      ]
     },
     "execution_count": 70,
     "metadata": {},
     "output_type": "execute_result"
    }
   ],
   "source": [
    "y[:5]"
   ]
  },
  {
   "cell_type": "code",
   "execution_count": 71,
   "metadata": {
    "id": "FFEyVdWhMX0-"
   },
   "outputs": [],
   "source": [
    "y=np.array(y)"
   ]
  },
  {
   "cell_type": "code",
   "execution_count": 72,
   "metadata": {
    "colab": {
     "base_uri": "https://localhost:8080/"
    },
    "id": "0RxaGpkNKB-i",
    "outputId": "8fcbf640-d4c9-4614-c5d8-092b60ba50a1"
   },
   "outputs": [
    {
     "data": {
      "text/plain": [
       "array([[0, 1, 0],\n",
       "       [1, 0, 0],\n",
       "       [0, 0, 1],\n",
       "       [0, 0, 1],\n",
       "       [0, 1, 0],\n",
       "       [0, 0, 1],\n",
       "       [0, 0, 1],\n",
       "       [0, 0, 1],\n",
       "       [1, 0, 0],\n",
       "       [0, 0, 1]])"
      ]
     },
     "execution_count": 72,
     "metadata": {},
     "output_type": "execute_result"
    }
   ],
   "source": [
    "y[:10]"
   ]
  },
  {
   "cell_type": "code",
   "execution_count": 73,
   "metadata": {
    "colab": {
     "base_uri": "https://localhost:8080/"
    },
    "id": "PM6Ypo0rKHja",
    "outputId": "95215de8-5ff7-498f-f5dc-10e493b7771b"
   },
   "outputs": [
    {
     "data": {
      "text/plain": [
       "(900, 3)"
      ]
     },
     "execution_count": 73,
     "metadata": {},
     "output_type": "execute_result"
    }
   ],
   "source": [
    "y.shape"
   ]
  },
  {
   "cell_type": "code",
   "execution_count": 74,
   "metadata": {
    "colab": {
     "base_uri": "https://localhost:8080/"
    },
    "id": "nX9pGDVTKNID",
    "outputId": "4eada5c3-3f7f-4134-9ca4-361314ec602e"
   },
   "outputs": [
    {
     "data": {
      "text/plain": [
       "(900, 48, 48, 3)"
      ]
     },
     "execution_count": 74,
     "metadata": {},
     "output_type": "execute_result"
    }
   ],
   "source": [
    "images.shape"
   ]
  },
  {
   "cell_type": "code",
   "execution_count": 75,
   "metadata": {
    "colab": {
     "base_uri": "https://localhost:8080/"
    },
    "id": "A59vRC_QKQUM",
    "outputId": "347d86e5-096b-4c2b-fb9a-1316effe8486"
   },
   "outputs": [
    {
     "data": {
      "text/plain": [
       "(900, 3)"
      ]
     },
     "execution_count": 75,
     "metadata": {},
     "output_type": "execute_result"
    }
   ],
   "source": [
    "y.shape"
   ]
  },
  {
   "cell_type": "markdown",
   "metadata": {
    "id": "GjGV-J0fKUxD"
   },
   "source": [
    "**Splitting the data**"
   ]
  },
  {
   "cell_type": "code",
   "execution_count": 76,
   "metadata": {
    "colab": {
     "base_uri": "https://localhost:8080/"
    },
    "id": "Sdq9ksnIKb6m",
    "outputId": "2cbae3a2-45c6-42c6-be89-9af357f59956"
   },
   "outputs": [
    {
     "data": {
      "text/plain": [
       "array([[0, 0, 1],\n",
       "       [1, 0, 0],\n",
       "       [1, 0, 0],\n",
       "       [0, 1, 0],\n",
       "       [0, 1, 0]])"
      ]
     },
     "execution_count": 76,
     "metadata": {},
     "output_type": "execute_result"
    }
   ],
   "source": [
    "x_train,x_test,y_train,y_test=train_test_split(images,y,test_size=0.3,stratify=y,random_state=43)\n",
    "y_train[:5]"
   ]
  },
  {
   "cell_type": "code",
   "execution_count": 77,
   "metadata": {
    "colab": {
     "base_uri": "https://localhost:8080/"
    },
    "id": "3TKCLitQQxNs",
    "outputId": "03ed2541-323e-4757-a9ff-a9e91aeaa651"
   },
   "outputs": [
    {
     "data": {
      "text/plain": [
       "(630, 48, 48, 3)"
      ]
     },
     "execution_count": 77,
     "metadata": {},
     "output_type": "execute_result"
    }
   ],
   "source": [
    "x_train.shape"
   ]
  },
  {
   "cell_type": "code",
   "execution_count": 78,
   "metadata": {
    "colab": {
     "base_uri": "https://localhost:8080/"
    },
    "id": "JTmoWC9HQyyM",
    "outputId": "47d6deaf-a71d-4e9d-e2f1-7638dfac1873"
   },
   "outputs": [
    {
     "data": {
      "text/plain": [
       "(270, 48, 48, 3)"
      ]
     },
     "execution_count": 78,
     "metadata": {},
     "output_type": "execute_result"
    }
   ],
   "source": [
    "x_test.shape"
   ]
  },
  {
   "cell_type": "code",
   "execution_count": 79,
   "metadata": {
    "colab": {
     "base_uri": "https://localhost:8080/"
    },
    "id": "OY1JJGHdQ4L1",
    "outputId": "4e99fb05-e061-4a3c-b7ec-0aab374aab79"
   },
   "outputs": [
    {
     "data": {
      "text/plain": [
       "(630, 3)"
      ]
     },
     "execution_count": 79,
     "metadata": {},
     "output_type": "execute_result"
    }
   ],
   "source": [
    "y_train.shape"
   ]
  },
  {
   "cell_type": "markdown",
   "metadata": {
    "id": "EziEDliPQ74e"
   },
   "source": [
    "**model building**"
   ]
  },
  {
   "cell_type": "markdown",
   "metadata": {
    "id": "mJrj6aUbRGLo"
   },
   "source": [
    "cnn"
   ]
  },
  {
   "cell_type": "code",
   "execution_count": 80,
   "metadata": {
    "colab": {
     "base_uri": "https://localhost:8080/"
    },
    "id": "Pm_wB3YKRHwA",
    "outputId": "dc320151-6bf6-48ec-a279-5e086b0d9a86"
   },
   "outputs": [
    {
     "name": "stdout",
     "output_type": "stream",
     "text": [
      "Model: \"sequential\"\n",
      "_________________________________________________________________\n",
      " Layer (type)                Output Shape              Param #   \n",
      "=================================================================\n",
      " conv2d (Conv2D)             (None, 48, 48, 32)        2432      \n",
      "                                                                 \n",
      " conv2d_1 (Conv2D)           (None, 48, 48, 32)        25632     \n",
      "                                                                 \n",
      " max_pooling2d (MaxPooling2D  (None, 24, 24, 32)       0         \n",
      " )                                                               \n",
      "                                                                 \n",
      " dropout (Dropout)           (None, 24, 24, 32)        0         \n",
      "                                                                 \n",
      " conv2d_2 (Conv2D)           (None, 24, 24, 64)        18496     \n",
      "                                                                 \n",
      " conv2d_3 (Conv2D)           (None, 24, 24, 64)        36928     \n",
      "                                                                 \n",
      " max_pooling2d_1 (MaxPooling  (None, 12, 12, 64)       0         \n",
      " 2D)                                                             \n",
      "                                                                 \n",
      " dropout_1 (Dropout)         (None, 12, 12, 64)        0         \n",
      "                                                                 \n",
      " conv2d_4 (Conv2D)           (None, 12, 12, 128)       73856     \n",
      "                                                                 \n",
      " conv2d_5 (Conv2D)           (None, 12, 12, 128)       147584    \n",
      "                                                                 \n",
      " max_pooling2d_2 (MaxPooling  (None, 6, 6, 128)        0         \n",
      " 2D)                                                             \n",
      "                                                                 \n",
      " dropout_2 (Dropout)         (None, 6, 6, 128)         0         \n",
      "                                                                 \n",
      " global_max_pooling2d (Globa  (None, 128)              0         \n",
      " lMaxPooling2D)                                                  \n",
      "                                                                 \n",
      " dense (Dense)               (None, 256)               33024     \n",
      "                                                                 \n",
      " dropout_3 (Dropout)         (None, 256)               0         \n",
      "                                                                 \n",
      " dense_1 (Dense)             (None, 3)                 771       \n",
      "                                                                 \n",
      "=================================================================\n",
      "Total params: 338,723\n",
      "Trainable params: 338,723\n",
      "Non-trainable params: 0\n",
      "_________________________________________________________________\n"
     ]
    }
   ],
   "source": [
    "# Set the CNN model \n",
    "\n",
    "batch_size = None\n",
    "\n",
    "model = Sequential()\n",
    "\n",
    "model.add(Conv2D(filters = 32, kernel_size = (5,5),padding = 'Same', \n",
    "                 activation ='relu', batch_input_shape = (batch_size,48, 48, 3)))\n",
    "\n",
    "\n",
    "model.add(Conv2D(filters = 32, kernel_size = (5,5),padding = 'Same', \n",
    "                 activation ='relu'))\n",
    "model.add(MaxPool2D(pool_size=(2,2)))\n",
    "model.add(Dropout(0.2))\n",
    "\n",
    "\n",
    "model.add(Conv2D(filters = 64, kernel_size = (3,3),padding = 'Same', \n",
    "                 activation ='relu'))\n",
    "model.add(Conv2D(filters = 64, kernel_size = (3,3),padding = 'same', \n",
    "                 activation ='relu'))\n",
    "model.add(MaxPool2D(pool_size=(2,2), strides=(2,2)))\n",
    "model.add(Dropout(0.3))\n",
    "\n",
    "model.add(Conv2D(filters = 128, kernel_size = (3,3),padding = 'Same', \n",
    "                 activation ='relu'))\n",
    "model.add(Conv2D(filters = 128, kernel_size = (3,3),padding = 'Same', \n",
    "                 activation ='relu'))\n",
    "model.add(MaxPool2D(pool_size=(2,2), strides=(2,2)))\n",
    "model.add(Dropout(0.4))\n",
    "model.add(GlobalMaxPooling2D())\n",
    "model.add(Dense(256, activation = \"relu\"))\n",
    "model.add(Dropout(0.5))\n",
    "model.add(Dense(3, activation = \"softmax\"))\n",
    "model.summary()"
   ]
  },
  {
   "cell_type": "code",
   "execution_count": 81,
   "metadata": {
    "id": "38E53BqtRVdJ"
   },
   "outputs": [],
   "source": [
    "#compile the model\n",
    "opt=Adam(learning_rate=0.001)\n",
    "optimizer=RMSprop(learning_rate=0.001, rho=0.9, epsilon=1e-08)\n",
    "model.compile(optimizer = optimizer, loss = \"categorical_crossentropy\", metrics = [\"accuracy\"])"
   ]
  },
  {
   "cell_type": "code",
   "execution_count": null,
   "metadata": {
    "id": "Od-kKMScR5Gn"
   },
   "outputs": [],
   "source": []
  },
  {
   "cell_type": "code",
   "execution_count": 82,
   "metadata": {
    "colab": {
     "base_uri": "https://localhost:8080/"
    },
    "id": "2Ea3cy1fRdLp",
    "outputId": "88ff205c-3d68-4bd5-8534-84711a34b56a"
   },
   "outputs": [
    {
     "name": "stdout",
     "output_type": "stream",
     "text": [
      "Epoch 1/10\n",
      "5/5 [==============================] - 12s 1s/step - loss: 11.9872 - accuracy: 0.3492 - val_loss: 1.0919 - val_accuracy: 0.3074\n",
      "Epoch 2/10\n",
      "5/5 [==============================] - 6s 1s/step - loss: 1.1325 - accuracy: 0.3381 - val_loss: 1.0710 - val_accuracy: 0.3444\n",
      "Epoch 3/10\n",
      "5/5 [==============================] - 6s 1s/step - loss: 1.1039 - accuracy: 0.3571 - val_loss: 1.0395 - val_accuracy: 0.4074\n",
      "Epoch 4/10\n",
      "5/5 [==============================] - 6s 1s/step - loss: 1.0236 - accuracy: 0.4635 - val_loss: 1.0084 - val_accuracy: 0.3963\n",
      "Epoch 5/10\n",
      "5/5 [==============================] - 6s 1s/step - loss: 0.9840 - accuracy: 0.5063 - val_loss: 0.8897 - val_accuracy: 0.7185\n",
      "Epoch 6/10\n",
      "5/5 [==============================] - 6s 1s/step - loss: 1.0204 - accuracy: 0.5175 - val_loss: 0.9328 - val_accuracy: 0.8481\n",
      "Epoch 7/10\n",
      "5/5 [==============================] - 6s 1s/step - loss: 0.8055 - accuracy: 0.6730 - val_loss: 0.8714 - val_accuracy: 0.4778\n",
      "Epoch 8/10\n",
      "5/5 [==============================] - 6s 1s/step - loss: 1.0094 - accuracy: 0.5508 - val_loss: 0.6979 - val_accuracy: 0.7185\n",
      "Epoch 9/10\n",
      "5/5 [==============================] - 6s 1s/step - loss: 0.7267 - accuracy: 0.6651 - val_loss: 0.8248 - val_accuracy: 0.5444\n",
      "Epoch 10/10\n",
      "5/5 [==============================] - 6s 1s/step - loss: 0.6457 - accuracy: 0.7000 - val_loss: 0.5246 - val_accuracy: 0.7667\n"
     ]
    }
   ],
   "source": [
    "#Fit the data or train the model\n",
    "History= model.fit(x_train, y_train,epochs = 10, validation_data = (x_test,y_test),batch_size = 128)"
   ]
  },
  {
   "cell_type": "code",
   "execution_count": 83,
   "metadata": {
    "colab": {
     "base_uri": "https://localhost:8080/",
     "height": 268
    },
    "id": "kjPIHKRqTi6S",
    "outputId": "95e6e013-d1af-411a-d82d-8c6a91911a8a"
   },
   "outputs": [
    {
     "data": {
      "image/png": "[encoded data removed]",
      "text/plain": [
       "<Figure size 432x288 with 1 Axes>"
      ]
     },
     "metadata": {},
     "output_type": "display_data"
    }
   ],
   "source": [
    "# plot the accuracy plot\n",
    "plt.plot(History.history['accuracy'], 'r')\n",
    "plt.plot(History.history['val_accuracy'], 'b')\n",
    "plt.legend({'Train Accuracy': 'r', 'Test Accuracy':'b'})\n",
    "plt.show()"
   ]
  },
  {
   "cell_type": "code",
   "execution_count": 80,
   "metadata": {},
   "outputs": [],
   "source": [
    "model.save(\"mental_cnn.h5\")"
   ]
  },
  {
   "cell_type": "code",
   "execution_count": 84,
   "metadata": {
    "colab": {
     "base_uri": "https://localhost:8080/",
     "height": 272
    },
    "id": "yIKDc7qITi0G",
    "outputId": "2f567811-5cc9-4abc-b8d8-d08ca353733d"
   },
   "outputs": [
    {
     "name": "stdout",
     "output_type": "stream",
     "text": [
      "9/9 [==============================] - 1s 62ms/step\n"
     ]
    },
    {
     "data": {
      "image/png": "[encoded data removed]",
      "text/plain": [
       "<Figure size 432x288 with 2 Axes>"
      ]
     },
     "metadata": {},
     "output_type": "display_data"
    }
   ],
   "source": [
    "#plot confusion matrix\n",
    "from sklearn.metrics import confusion_matrix\n",
    "class_names = ['bipolar', 'healthy', 'schizoprehnia']\n",
    "df_heatmap = pd.DataFrame(confusion_matrix(np.argmax((model.predict(x_test)),axis = 1),np.argmax(y_test,axis=1)),columns = class_names, index = class_names)\n",
    "heatmap = sns.heatmap(df_heatmap, annot=True, fmt=\"d\")"
   ]
  },
  {
   "cell_type": "code",
   "execution_count": 85,
   "metadata": {
    "colab": {
     "base_uri": "https://localhost:8080/"
    },
    "id": "jBHsnZxcpPAf",
    "outputId": "a3f41543-675a-4fc1-ef7d-098756fe8752"
   },
   "outputs": [
    {
     "name": "stdout",
     "output_type": "stream",
     "text": [
      "Test accuracy: 0.7666666507720947\n"
     ]
    }
   ],
   "source": [
    "# print the test accuracy\n",
    "score_2 = model.evaluate(x_test, y_test, verbose=0)\n",
    "print('Test accuracy:', score_2[1])"
   ]
  },
  {
   "cell_type": "markdown",
   "metadata": {
    "id": "ELqcr4VLa2YU"
   },
   "source": [
    "VGG-16"
   ]
  },
  {
   "cell_type": "code",
   "execution_count": 86,
   "metadata": {
    "id": "oJhi-yphTiwF"
   },
   "outputs": [],
   "source": [
    "from tensorflow.keras.applications.vgg16 import VGG16"
   ]
  },
  {
   "cell_type": "code",
   "execution_count": 87,
   "metadata": {
    "colab": {
     "base_uri": "https://localhost:8080/"
    },
    "id": "lzFpip8xQ_TP",
    "outputId": "6b43c5e7-5895-4f2d-ec24-770728ee1545"
   },
   "outputs": [],
   "source": [
    "vgg=VGG16(weights='imagenet',include_top=False,input_shape=(48,48,3))"
   ]
  },
  {
   "cell_type": "code",
   "execution_count": 88,
   "metadata": {
    "id": "4u8Q8UivbFcQ"
   },
   "outputs": [],
   "source": [
    "vgg.trainable=False"
   ]
  },
  {
   "cell_type": "code",
   "execution_count": 90,
   "metadata": {
    "id": "VwpI051ibMfB"
   },
   "outputs": [],
   "source": [
    "# Set the vgg16 model\n",
    "\n",
    "model_1=Sequential()\n",
    "model_1.add(vgg)\n",
    "model_1.add(Flatten())\n",
    "model_1.add(Dense(128, activation='relu'))\n",
    "model_1.add(Dropout(0.2))\n",
    "model_1.add(Dense(3, activation='softmax'))"
   ]
  },
  {
   "cell_type": "code",
   "execution_count": 94,
   "metadata": {
    "id": "nIKMb1uFbXdJ"
   },
   "outputs": [],
   "source": [
    "#Compile the model\n",
    "opt = Adam(learning_rate=0.001)\n",
    "\n",
    "optimizer = RMSprop(learning_rate=0.001, rho=0.9, epsilon=1e-08)\n",
    "model_1.compile(optimizer = optimizer, loss = \"categorical_crossentropy\", metrics = [\"accuracy\"])"
   ]
  },
  {
   "cell_type": "code",
   "execution_count": 92,
   "metadata": {
    "colab": {
     "base_uri": "https://localhost:8080/"
    },
    "id": "EYoh8TDhbYzi",
    "outputId": "b1da7252-ec6e-4ff8-bf5e-cd3f01f46909"
   },
   "outputs": [
    {
     "name": "stdout",
     "output_type": "stream",
     "text": [
      "Epoch 1/10\n",
      "5/5 [==============================] - 6s 915ms/step - loss: 5.9716 - accuracy: 0.5063 - val_loss: 0.3481 - val_accuracy: 0.8926\n",
      "Epoch 2/10\n",
      "5/5 [==============================] - 4s 769ms/step - loss: 1.0723 - accuracy: 0.8127 - val_loss: 0.0299 - val_accuracy: 0.9852\n",
      "Epoch 3/10\n",
      "5/5 [==============================] - 3s 660ms/step - loss: 0.7305 - accuracy: 0.8540 - val_loss: 0.0052 - val_accuracy: 1.0000\n",
      "Epoch 4/10\n",
      "5/5 [==============================] - 3s 660ms/step - loss: 0.4318 - accuracy: 0.9222 - val_loss: 0.0090 - val_accuracy: 1.0000\n",
      "Epoch 5/10\n",
      "5/5 [==============================] - 3s 661ms/step - loss: 0.3456 - accuracy: 0.9270 - val_loss: 6.2667e-04 - val_accuracy: 1.0000\n",
      "Epoch 6/10\n",
      "5/5 [==============================] - 3s 729ms/step - loss: 0.1324 - accuracy: 0.9762 - val_loss: 3.7387e-04 - val_accuracy: 1.0000\n",
      "Epoch 7/10\n",
      "5/5 [==============================] - 3s 664ms/step - loss: 0.1242 - accuracy: 0.9635 - val_loss: 8.8783e-05 - val_accuracy: 1.0000\n",
      "Epoch 8/10\n",
      "5/5 [==============================] - 3s 669ms/step - loss: 0.0816 - accuracy: 0.9730 - val_loss: 0.0013 - val_accuracy: 1.0000\n",
      "Epoch 9/10\n",
      "5/5 [==============================] - 3s 680ms/step - loss: 0.0954 - accuracy: 0.9746 - val_loss: 9.6664e-05 - val_accuracy: 1.0000\n",
      "Epoch 10/10\n",
      "5/5 [==============================] - 3s 686ms/step - loss: 0.0343 - accuracy: 0.9905 - val_loss: 1.2116e-04 - val_accuracy: 1.0000\n"
     ]
    }
   ],
   "source": [
    "#Fit the data or train the model\n",
    "History2= model_1.fit(x_train, y_train, epochs = 10, validation_data = (x_test,y_test),batch_size = 128)"
   ]
  },
  {
   "cell_type": "code",
   "execution_count": 79,
   "metadata": {},
   "outputs": [],
   "source": [
    "model.save(\"mental_vgg16.h5\")"
   ]
  },
  {
   "cell_type": "code",
   "execution_count": 95,
   "metadata": {
    "colab": {
     "base_uri": "https://localhost:8080/",
     "height": 272
    },
    "id": "deKrVgwYhLm9",
    "outputId": "a616c4eb-d6a3-4bf0-8c36-91518e09a170"
   },
   "outputs": [
    {
     "name": "stdout",
     "output_type": "stream",
     "text": [
      "9/9 [==============================] - 2s 197ms/step\n"
     ]
    },
    {
     "data": {
      "image/png": "[encoded data removed]",
      "text/plain": [
       "<Figure size 432x288 with 2 Axes>"
      ]
     },
     "metadata": {},
     "output_type": "display_data"
    }
   ],
   "source": [
    "#plot confusion matrix\n",
    "from sklearn.metrics import confusion_matrix\n",
    "class_names = ['bipolar', 'healthy', 'schizoprehnia']\n",
    "df_heatmap = pd.DataFrame(confusion_matrix(np.argmax((model_1.predict(x_test)),axis = 1),np.argmax(y_test,axis=1)),columns = class_names, index = class_names)\n",
    "heatmap = sns.heatmap(df_heatmap, annot=True, fmt=\"d\")"
   ]
  },
  {
   "cell_type": "code",
   "execution_count": 96,
   "metadata": {
    "colab": {
     "base_uri": "https://localhost:8080/",
     "height": 268
    },
    "id": "4ZZrXAjfoQM_",
    "outputId": "6415e1e3-fa1e-45fc-8da6-66c633ed9b26"
   },
   "outputs": [
    {
     "data": {
      "image/png": "[encoded data removed]",
      "text/plain": [
       "<Figure size 432x288 with 1 Axes>"
      ]
     },
     "metadata": {},
     "output_type": "display_data"
    }
   ],
   "source": [
    "# plot the accuracy plot\n",
    "plt.plot(History2.history['accuracy'], 'r')\n",
    "plt.plot(History2.history['val_accuracy'], 'b')\n",
    "plt.legend({'Train Accuracy': 'r', 'Test Accuracy':'b'})\n",
    "plt.show()"
   ]
  },
  {
   "cell_type": "code",
   "execution_count": 97,
   "metadata": {
    "colab": {
     "base_uri": "https://localhost:8080/"
    },
    "id": "q-h4DiDEqGJ6",
    "outputId": "657626c7-2ddf-4286-8e96-9a1854fa6df4"
   },
   "outputs": [
    {
     "name": "stdout",
     "output_type": "stream",
     "text": [
      "Test accuracy: 1.0\n"
     ]
    }
   ],
   "source": [
    "# print the test accuracy\n",
    "score_2 = model_1.evaluate(x_test, y_test, verbose=0)\n",
    "print('Test accuracy:', score_2[1])"
   ]
  },
  {
   "cell_type": "code",
   "execution_count": null,
   "metadata": {
    "id": "GUi2PF9UqKYC"
   },
   "outputs": [],
   "source": []
  },
  {
   "cell_type": "code",
   "execution_count": null,
   "metadata": {},
   "outputs": [],
   "source": []
  },
  {
   "cell_type": "code",
   "execution_count": null,
   "metadata": {},
   "outputs": [],
   "source": []
  },
  {
   "cell_type": "code",
   "execution_count": null,
   "metadata": {},
   "outputs": [],
   "source": []
  },
  {
   "cell_type": "code",
   "execution_count": null,
   "metadata": {},
   "outputs": [],
   "source": []
  },
  {
   "cell_type": "code",
   "execution_count": null,
   "metadata": {},
   "outputs": [],
   "source": []
  },
  {
   "cell_type": "code",
   "execution_count": null,
   "metadata": {},
   "outputs": [],
   "source": []
  },
  {
   "cell_type": "code",
   "execution_count": null,
   "metadata": {},
   "outputs": [],
   "source": []
  },
  {
   "cell_type": "code",
   "execution_count": null,
   "metadata": {},
   "outputs": [],
   "source": []
  },
  {
   "cell_type": "code",
   "execution_count": null,
   "metadata": {},
   "outputs": [],
   "source": []
  },
  {
   "cell_type": "code",
   "execution_count": null,
   "metadata": {},
   "outputs": [],
   "source": []
  },
  {
   "cell_type": "code",
   "execution_count": null,
   "metadata": {},
   "outputs": [],
   "source": []
  },
  {
   "cell_type": "code",
   "execution_count": null,
   "metadata": {},
   "outputs": [],
   "source": []
  },
  {
   "cell_type": "code",
   "execution_count": null,
   "metadata": {},
   "outputs": [],
   "source": []
  },
  {
   "cell_type": "code",
   "execution_count": null,
   "metadata": {},
   "outputs": [],
   "source": []
  },
  {
   "cell_type": "code",
   "execution_count": null,
   "metadata": {},
   "outputs": [],
   "source": []
  },
  {
   "cell_type": "code",
   "execution_count": null,
   "metadata": {},
   "outputs": [],
   "source": []
  },
  {
   "cell_type": "code",
   "execution_count": null,
   "metadata": {},
   "outputs": [],
   "source": []
  },
  {
   "cell_type": "code",
   "execution_count": null,
   "metadata": {},
   "outputs": [],
   "source": []
  },
  {
   "cell_type": "code",
   "execution_count": null,
   "metadata": {},
   "outputs": [],
   "source": []
  },
  {
   "cell_type": "code",
   "execution_count": null,
   "metadata": {},
   "outputs": [],
   "source": []
  },
  {
   "cell_type": "code",
   "execution_count": null,
   "metadata": {},
   "outputs": [],
   "source": []
  },
  {
   "cell_type": "code",
   "execution_count": null,
   "metadata": {},
   "outputs": [],
   "source": []
  },
  {
   "cell_type": "code",
   "execution_count": null,
   "metadata": {},
   "outputs": [],
   "source": []
  },
  {
   "cell_type": "code",
   "execution_count": null,
   "metadata": {},
   "outputs": [],
   "source": []
  },
  {
   "cell_type": "code",
   "execution_count": null,
   "metadata": {},
   "outputs": [],
   "source": []
  },
  {
   "cell_type": "code",
   "execution_count": null,
   "metadata": {},
   "outputs": [],
   "source": []
  },
  {
   "cell_type": "code",
   "execution_count": null,
   "metadata": {},
   "outputs": [],
   "source": []
  },
  {
   "cell_type": "code",
   "execution_count": null,
   "metadata": {},
   "outputs": [],
   "source": []
  },
  {
   "cell_type": "code",
   "execution_count": null,
   "metadata": {},
   "outputs": [],
   "source": []
  },
  {
   "cell_type": "code",
   "execution_count": null,
   "metadata": {},
   "outputs": [],
   "source": []
  },
  {
   "cell_type": "code",
   "execution_count": null,
   "metadata": {},
   "outputs": [],
   "source": []
  },
  {
   "cell_type": "code",
   "execution_count": null,
   "metadata": {},
   "outputs": [],
   "source": []
  },
  {
   "cell_type": "code",
   "execution_count": null,
   "metadata": {},
   "outputs": [],
   "source": []
  },
  {
   "cell_type": "code",
   "execution_count": null,
   "metadata": {},
   "outputs": [],
   "source": []
  },
  {
   "cell_type": "code",
   "execution_count": null,
   "metadata": {},
   "outputs": [],
   "source": []
  },
  {
   "cell_type": "code",
   "execution_count": null,
   "metadata": {},
   "outputs": [],
   "source": []
  },
  {
   "cell_type": "code",
   "execution_count": null,
   "metadata": {},
   "outputs": [],
   "source": []
  }
 ],
 "metadata": {
  "colab": {
   "collapsed_sections": [],
   "name": "Mental illness ",
   "provenance": []
  },
  "kernelspec": {
   "display_name": "Python 3",
   "language": "python",
   "name": "python3"
  },
  "language_info": {
   "codemirror_mode": {
    "name": "ipython",
    "version": 3
   },
   "file_extension": ".py",
   "mimetype": "text/x-python",
   "name": "python",
   "nbconvert_exporter": "python",
   "pygments_lexer": "ipython3",
   "version": "3.8.8"
  }
 },
 "nbformat": 4,
 "nbformat_minor": 1
}
